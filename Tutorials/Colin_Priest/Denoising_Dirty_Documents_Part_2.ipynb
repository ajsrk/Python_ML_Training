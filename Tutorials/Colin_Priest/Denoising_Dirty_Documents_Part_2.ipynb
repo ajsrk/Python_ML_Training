{
 "cells": [
  {
   "cell_type": "code",
   "execution_count": 102,
   "metadata": {
    "collapsed": false
   },
   "outputs": [
    {
     "name": "stdout",
     "output_type": "stream",
     "text": [
      "[array([ 0.4137255], dtype=float32), array([ 0.71960783], dtype=float32)]\n"
     ]
    }
   ],
   "source": [
    "# We notice that the deviations from the ideal output are due to gray streaks along the fold lines of the predicted image. \n",
    "# To clean this up and only retain text, we need to perform thresholding\n",
    "from sklearn.cluster import KMeans\n",
    "import matplotlib.image as mpimg\n",
    "import numpy as np\n",
    "\n",
    "samImg = mpimg.imread(\"G:/Denoising_Dirty_Documents/train/6.png\")\n",
    "x = np.array(samImg)\n",
    "img_vec = np.reshape(x,(x.size,1))\n",
    "\n",
    "#Function to determine the threshold values, given the number of clusters\n",
    "def getThreshold(x_vec,clusterSize):\n",
    "\n",
    "    kmeans = KMeans(n_clusters = 3, random_state = 0).fit(x_vec)\n",
    "    kmeans.labels_ # Gives the classification values of each member of the training set\n",
    "\n",
    "    # For finding the minimum and maximum values in each cluster\n",
    "    low_thresh_sub = []\n",
    "    high_thresh_sub = []\n",
    "    for i in range(clusterSize): \n",
    "        low_thresh_sub.append(min(x_vec[kmeans.labels_ == i]))\n",
    "        high_thresh_sub.append(max(x_vec[kmeans.labels_ == i]))\n",
    "    low_thresh_sub.sort()\n",
    "    high_thresh_sub.sort()\n",
    "    thresholds = []\n",
    "    for i in range(clusterSize):\n",
    "        if i+1 < clusterSize:\n",
    "            thresholds.append((low_thresh_sub[i+1] + high_thresh_sub[i])/2)\n",
    "    print(thresholds)\n",
    "    return\n",
    "\n",
    "getThreshold(img_vec,3)\n"
   ]
  },
  {
   "cell_type": "code",
   "execution_count": null,
   "metadata": {
    "collapsed": true
   },
   "outputs": [],
   "source": []
  }
 ],
 "metadata": {
  "anaconda-cloud": {},
  "kernelspec": {
   "display_name": "Python [Root]",
   "language": "python",
   "name": "Python [Root]"
  },
  "language_info": {
   "codemirror_mode": {
    "name": "ipython",
    "version": 3
   },
   "file_extension": ".py",
   "mimetype": "text/x-python",
   "name": "python",
   "nbconvert_exporter": "python",
   "pygments_lexer": "ipython3",
   "version": "3.5.2"
  }
 },
 "nbformat": 4,
 "nbformat_minor": 0
}
